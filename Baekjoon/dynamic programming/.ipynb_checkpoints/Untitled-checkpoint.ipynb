{
 "cells": [
  {
   "cell_type": "code",
   "execution_count": 20,
   "id": "3518207a-2fed-4be5-8f87-40f9dc064165",
   "metadata": {},
   "outputs": [
    {
     "name": "stdin",
     "output_type": "stream",
     "text": [
      " 3\n",
      " 0\n",
      " 1\n",
      " 3\n"
     ]
    },
    {
     "name": "stdout",
     "output_type": "stream",
     "text": [
      "1 0\n",
      "0 1\n",
      "1 2\n"
     ]
    }
   ],
   "source": [
    "n = int(input())\n",
    "\n",
    "case = []\n",
    "\n",
    "for i in range(n):\n",
    "    case.append(int(input()))    \n",
    "    \n",
    "for i in case:\n",
    "    fibo = [[1,0], [0,1]]\n",
    "    if i > 1:\n",
    "        for r in range(2,i+1):\n",
    "            fibo.append([fibo[r-2][0]+fibo[r-1][0], fibo[r-2][1]+fibo[r-1][1]])\n",
    "    print(fibo[i][0], fibo[i][1])"
   ]
  },
  {
   "cell_type": "code",
   "execution_count": 11,
   "id": "eb0f18dd-bf4d-4467-9f5a-acc61f001a30",
   "metadata": {},
   "outputs": [],
   "source": [
    "size_"
   ]
  },
  {
   "cell_type": "code",
   "execution_count": null,
   "id": "7262874b-e3cd-4b9a-a406-de3d6a686a8b",
   "metadata": {},
   "outputs": [],
   "source": []
  }
 ],
 "metadata": {
  "kernelspec": {
   "display_name": "Python 3",
   "language": "python",
   "name": "python3"
  },
  "language_info": {
   "codemirror_mode": {
    "name": "ipython",
    "version": 3
   },
   "file_extension": ".py",
   "mimetype": "text/x-python",
   "name": "python",
   "nbconvert_exporter": "python",
   "pygments_lexer": "ipython3",
   "version": "3.6.9"
  }
 },
 "nbformat": 4,
 "nbformat_minor": 5
}
